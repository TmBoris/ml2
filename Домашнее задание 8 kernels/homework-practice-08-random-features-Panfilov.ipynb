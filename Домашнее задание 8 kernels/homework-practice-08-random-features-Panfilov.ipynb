{
 "cells": [
  {
   "cell_type": "markdown",
   "metadata": {
    "id": "RYp0bXOFK-hP"
   },
   "source": [
    "# Машинное обучение, ФКН ВШЭ\n",
    "\n",
    "## Практическое задание 8. Метод опорных векторов и аппроксимация ядер\n",
    "\n",
    "### Общая информация\n",
    "\n",
    "Дата выдачи: 02.02.2024\n",
    "\n",
    "Мягкий дедлайн: 23:59MSK 19.02.2024\n",
    "\n",
    "Жесткий дедлайн: 23:59MSK 25.02.2024\n",
    "\n",
    "### Оценивание и штрафы\n",
    "Каждая из задач имеет определенную «стоимость» (указана в скобках около задачи). Максимальная оценка за работу (без учёта бонусов) — 10 баллов.\n",
    "\n",
    "Сдавать задание после указанного жёсткого срока сдачи нельзя. При выставлении неполного балла за задание в связи с наличием ошибок на усмотрение проверяющего предусмотрена возможность исправить работу на указанных в ответном письме условиях.\n",
    "\n",
    "Задание выполняется самостоятельно. «Похожие» решения считаются плагиатом и все задействованные студенты (в том числе те, у кого списали) не могут получить за него больше 0 баллов (подробнее о плагиате см. на странице курса). Если вы нашли решение какого-то из заданий (или его часть) в открытом источнике, необходимо указать ссылку на этот источник в отдельном блоке в конце вашей работы (скорее всего вы будете не единственным, кто это нашел, поэтому чтобы исключить подозрение в плагиате, необходима ссылка на источник).\n",
    "\n",
    "Неэффективная реализация кода может негативно отразиться на оценке.\n",
    "\n",
    "### Формат сдачи\n",
    "Задания сдаются через систему anytask. Посылка должна содержать:\n",
    "* Ноутбук homework-practice-08-random-features-Username.ipynb\n",
    "\n",
    "Username — ваша фамилия и имя на латинице именно в таком порядке"
   ]
  },
  {
   "cell_type": "markdown",
   "metadata": {
    "id": "vY8vT0W_K-hR"
   },
   "source": [
    "### О задании\n",
    "\n",
    "На занятиях мы подробно обсуждали метод опорных векторов (SVM). В базовой версии в нём нет чего-то особенного — мы всего лишь используем специальную функцию потерь, которая не требует устремлять отступы к бесконечности; ей достаточно, чтобы отступы были не меньше +1. Затем мы узнали, что SVM можно переписать в двойственном виде, который, позволяет заменить скалярные произведения объектов на ядра. Это будет соответствовать построению модели в новом пространстве более высокой размерности, координаты которого представляют собой нелинейные модификации исходных признаков.\n",
    "\n",
    "Ядровой SVM, к сожалению, довольно затратен по памяти (нужно хранить матрицу Грама размера $d \\times d$) и по времени (нужно решать задачу условной оптимизации с квадратичной функцией, а это не очень быстро). Мы обсуждали, что есть способы посчитать новые признаки $\\tilde \\varphi(x)$ на основе исходных так, что скалярные произведения этих новых $\\langle \\tilde \\varphi(x), \\tilde \\varphi(z) \\rangle$ приближают ядро $K(x, z)$.\n",
    "\n",
    "Мы будем исследовать аппроксимации методом Random Fourier Features (RFF, также в литературе встречается название Random Kitchen Sinks) для гауссовых ядер. Будем использовать формулы, которые немного отличаются от того, что было на лекциях (мы добавим сдвиги внутрь тригонометрических функций и будем использовать только косинусы, потому что с нужным сдвигом косинус превратится в синус):\n",
    "$$\\tilde \\varphi(x) = (\n",
    "\\cos (w_1^T x + b_1),\n",
    "\\dots,\n",
    "\\cos (w_n^T x + b_n)\n",
    "),$$\n",
    "где $w_j \\sim \\mathcal{N}(0, 1/\\sigma^2)$, $b_j \\sim U[-\\pi, \\pi]$.\n",
    "\n",
    "На новых признаках $\\tilde \\varphi(x)$ мы будем строить любую линейную модель.\n",
    "\n",
    "Можно считать, что это некоторая новая парадигма построения сложных моделей. Можно направленно искать сложные нелинейные закономерности в данных с помощью градиентного бустинга или нейронных сетей, а можно просто нагенерировать большое количество случайных нелинейных признаков и надеяться, что быстрая и простая модель (то есть линейная) сможет показать на них хорошее качество. В этом задании мы изучим, насколько работоспособна такая идея.\n",
    "\n",
    "### Алгоритм\n",
    "\n",
    "Вам потребуется реализовать следующий алгоритм:\n",
    "1. Понизить размерность выборки до new_dim с помощью метода главных компонент.\n",
    "2. Для полученной выборки оценить гиперпараметр $\\sigma^2$ с помощью эвристики (рекомендуем считать медиану не по всем парам объектов, а по случайному подмножеству из где-то миллиона пар объектов): $$\\sigma^2 = \\text{median}_{i, j = 1, \\dots, \\ell, i \\neq j} \\left\\{\\sum_{k = 1}^{d} (x_{ik} - x_{jk})^2 \\right\\}$$\n",
    "3. Сгенерировать n_features наборов весов $w_j$ и сдвигов $b_j$.\n",
    "4. Сформировать n_features новых признаков по формулам, приведённым выше.\n",
    "5. Обучить линейную модель (логистическую регрессию или SVM) на новых признаках.\n",
    "6. Повторить преобразования (PCA, формирование новых признаков) к тестовой выборке и применить модель."
   ]
  },
  {
   "cell_type": "markdown",
   "metadata": {
    "id": "N_sGunb7K-hS"
   },
   "source": [
    "Тестировать алгоритм мы будем на данных Fashion MNIST. Ниже код для их загрузки и подготовки."
   ]
  },
  {
   "cell_type": "code",
   "execution_count": 1,
   "metadata": {
    "id": "YyG6dBfjK-hS"
   },
   "outputs": [
    {
     "name": "stderr",
     "output_type": "stream",
     "text": [
      "2024-02-19 19:48:19.470010: E external/local_xla/xla/stream_executor/cuda/cuda_dnn.cc:9261] Unable to register cuDNN factory: Attempting to register factory for plugin cuDNN when one has already been registered\n",
      "2024-02-19 19:48:19.470046: E external/local_xla/xla/stream_executor/cuda/cuda_fft.cc:607] Unable to register cuFFT factory: Attempting to register factory for plugin cuFFT when one has already been registered\n",
      "2024-02-19 19:48:19.471050: E external/local_xla/xla/stream_executor/cuda/cuda_blas.cc:1515] Unable to register cuBLAS factory: Attempting to register factory for plugin cuBLAS when one has already been registered\n",
      "2024-02-19 19:48:19.477664: I tensorflow/core/platform/cpu_feature_guard.cc:182] This TensorFlow binary is optimized to use available CPU instructions in performance-critical operations.\n",
      "To enable the following instructions: AVX2 FMA, in other operations, rebuild TensorFlow with the appropriate compiler flags.\n",
      "2024-02-19 19:48:20.552214: W tensorflow/compiler/tf2tensorrt/utils/py_utils.cc:38] TF-TRT Warning: Could not find TensorRT\n"
     ]
    },
    {
     "name": "stdout",
     "output_type": "stream",
     "text": [
      "Downloading data from https://storage.googleapis.com/tensorflow/tf-keras-datasets/train-labels-idx1-ubyte.gz\n",
      "29515/29515 [==============================] - 0s 1us/step\n",
      "Downloading data from https://storage.googleapis.com/tensorflow/tf-keras-datasets/train-images-idx3-ubyte.gz\n",
      "26421880/26421880 [==============================] - 3s 0us/step\n",
      "Downloading data from https://storage.googleapis.com/tensorflow/tf-keras-datasets/t10k-labels-idx1-ubyte.gz\n",
      "5148/5148 [==============================] - 0s 0us/step\n",
      "Downloading data from https://storage.googleapis.com/tensorflow/tf-keras-datasets/t10k-images-idx3-ubyte.gz\n",
      "4422102/4422102 [==============================] - 1s 0us/step\n"
     ]
    }
   ],
   "source": [
    "# from  import keras\n",
    "from keras.datasets import fashion_mnist\n",
    "(x_train_pics, y_train), (x_test_pics, y_test) = fashion_mnist.load_data()\n",
    "x_train = x_train_pics.reshape(y_train.shape[0], -1)\n",
    "x_test = x_test_pics.reshape(y_test.shape[0], -1)"
   ]
  },
  {
   "cell_type": "code",
   "execution_count": 2,
   "metadata": {},
   "outputs": [
    {
     "data": {
      "text/plain": [
       "((60000, 784), (10000, 784))"
      ]
     },
     "execution_count": 2,
     "metadata": {},
     "output_type": "execute_result"
    }
   ],
   "source": [
    "x_train.shape, x_test.shape"
   ]
  },
  {
   "cell_type": "code",
   "execution_count": 16,
   "metadata": {},
   "outputs": [],
   "source": [
    "from sklearn.decomposition import PCA\n",
    "import numpy as np\n",
    "from sklearn.linear_model import LogisticRegression\n",
    "from sklearn.svm import SVC, LinearSVC\n",
    "from sklearn.preprocessing import Normalizer\n",
    "from sklearn.metrics import accuracy_score, recall_score, precision_score\n",
    "import time"
   ]
  },
  {
   "cell_type": "markdown",
   "metadata": {
    "id": "rJNN55F7K-hT"
   },
   "source": [
    "__Задание 1. (5 баллов)__\n",
    "\n",
    "Реализуйте алгоритм, описанный выше. Можете воспользоваться шаблоном класса ниже или написать свой интерфейс.\n",
    "\n",
    "Ваша реализация должна поддерживать следующие опции:\n",
    "1. Возможность задавать значения гиперпараметров new_dim (по умолчанию 50) и n_features (по умолчанию 1000).\n",
    "2. Возможность включать или выключать предварительное понижение размерности с помощью метода главных компонент.\n",
    "3. Возможность выбирать тип линейной модели (логистическая регрессия или SVM с линейным ядром).\n",
    "\n",
    "Протестируйте на данных Fashion MNIST, сформированных кодом выше. Если на тесте у вас получилась доля верных ответов не ниже 0.84 с гиперпараметрами по умолчанию, то вы всё сделали правильно."
   ]
  },
  {
   "cell_type": "code",
   "execution_count": 4,
   "metadata": {
    "id": "jP8yepx8K-hT"
   },
   "outputs": [],
   "source": [
    "from sklearn.base import BaseEstimator, TransformerMixin\n",
    "\n",
    "\n",
    "class RFFPipeline(BaseEstimator, TransformerMixin):\n",
    "    def __init__(self, n_features=1000, new_dim=50, use_PCA=True, classifier='logreg'):\n",
    "        \"\"\"\n",
    "        Implements pipeline, which consists of PCA decomposition,\n",
    "        Random Fourier Features approximation and linear classification model.\n",
    "\n",
    "        n_features, int: amount of synthetic random features generated with RFF approximation.\n",
    "\n",
    "        new_dim, int: PCA output size.\n",
    "\n",
    "        use_PCA, bool: whether to include PCA preprocessing.\n",
    "\n",
    "        classifier, string: either 'svm' or 'logreg', a linear classification model to use on top of pipeline.\n",
    "\n",
    "        Feel free to edit this template for your preferences.\n",
    "        \"\"\"\n",
    "        self.n_features = n_features\n",
    "        self.use_PCA = use_PCA\n",
    "        self.new_dim = new_dim\n",
    "        self.classifier = classifier\n",
    "        self.sigma_squared = None\n",
    "        self.pca = None\n",
    "        self.w = None\n",
    "        self.u = None\n",
    "        self.scaler = None\n",
    "\n",
    "    def fit(self, X, y):\n",
    "        \"\"\"\n",
    "        Fit all parts of algorithm (PCA, RFF, Classification) to training set.\n",
    "        \"\"\"\n",
    "        self.scaler = Normalizer().fit(X)\n",
    "        X = self.scaler.transform(X)\n",
    "        \n",
    "        # понижаем размерность если нужно\n",
    "        if self.use_PCA:\n",
    "            self.pca = PCA(n_components=self.new_dim)\n",
    "            X = self.pca.fit_transform(X)\n",
    "\n",
    "\n",
    "        # считаем сигму в матричном виде\n",
    "        ind = np.random.choice(X.shape[0], size=(2, 1000))\n",
    "        ind = ind[:, ind[0] != ind[1]]\n",
    "        self.sigma_squared = np.median(np.sum((X[ind[0]] - X[ind[1]]) ** 2, axis=1))\n",
    "\n",
    "        # генерим u, w и новые признаки\n",
    "        self.w = np.random.normal(0, 1 / np.sqrt(self.sigma_squared), size=(X.shape[1], self.n_features))\n",
    "        self.u = np.random.uniform(-np.pi, np.pi, self.n_features)\n",
    "\n",
    "        non_linear_X = np.cos(X @ self.w + self.u)\n",
    "\n",
    "        # учим модель\n",
    "        if self.classifier == \"svm\":\n",
    "            self.model = SVC(kernel=\"linear\").fit(non_linear_X, y)\n",
    "        elif self.classifier == \"logreg\":\n",
    "            self.model = LogisticRegression(max_iter=3000).fit(non_linear_X, y)\n",
    "\n",
    "        return self\n",
    "\n",
    "    def predict_proba(self, X):\n",
    "        \"\"\"\n",
    "        Apply pipeline to obtain scores for input data.\n",
    "        \"\"\"\n",
    "        X = self.scaler.transform(X)\n",
    "\n",
    "        if self.use_PCA:\n",
    "            X = self.pca.transform(X)\n",
    "\n",
    "        non_linear_X = np.cos(X @ self.w + self.u)\n",
    "\n",
    "        return self.model.predict_proba(non_linear_X)\n",
    "\n",
    "    def predict(self, X):\n",
    "        \"\"\"\n",
    "        Apply pipeline to obtain discrete predictions for input data.\n",
    "        \"\"\"\n",
    "        X = self.scaler.transform(X)\n",
    "\n",
    "        if self.use_PCA:\n",
    "            X = self.pca.transform(X)\n",
    "\n",
    "        non_linear_X = np.cos(X @ self.w + self.u)\n",
    "\n",
    "        return self.model.predict(non_linear_X)"
   ]
  },
  {
   "cell_type": "code",
   "execution_count": 5,
   "metadata": {},
   "outputs": [
    {
     "name": "stderr",
     "output_type": "stream",
     "text": [
      "/home/boris/.local/lib/python3.10/site-packages/sklearn/linear_model/_logistic.py:460: ConvergenceWarning: lbfgs failed to converge (status=1):\n",
      "STOP: TOTAL NO. of ITERATIONS REACHED LIMIT.\n",
      "\n",
      "Increase the number of iterations (max_iter) or scale the data as shown in:\n",
      "    https://scikit-learn.org/stable/modules/preprocessing.html\n",
      "Please also refer to the documentation for alternative solver options:\n",
      "    https://scikit-learn.org/stable/modules/linear_model.html#logistic-regression\n",
      "  n_iter_i = _check_optimize_result(\n"
     ]
    },
    {
     "name": "stdout",
     "output_type": "stream",
     "text": [
      "accuracy = 0.882\n"
     ]
    }
   ],
   "source": [
    "rffpip = RFFPipeline()\n",
    "rffpip.fit(x_train, y_train)\n",
    "y_pred = rffpip.predict(x_test)\n",
    "\n",
    "print(f'accuracy = {np.mean(y_pred == y_test)}')"
   ]
  },
  {
   "cell_type": "markdown",
   "metadata": {
    "id": "HYqQUEi-K-hU"
   },
   "source": [
    "__Задание 2. (3 балла)__\n",
    "\n",
    "Сравните подход со случайными признаками с обучением SVM на исходных признаках. Попробуйте вариант с обычным (линейным) SVM и с ядровым SVM. Ядровой SVM может очень долго обучаться, поэтому можно делать любые разумные вещи для ускорения: брать подмножество объектов из обучающей выборки, например.\n",
    "\n",
    "Сравните подход со случайными признаками с вариантом, в котором вы понижаете размерность с помощью PCA и обучаете градиентный бустинг. Используйте одну из реализаций CatBoost/LightGBM/XGBoost, не забудьте подобрать число деревьев и длину шага.\n",
    "\n",
    "Сделайте выводы — насколько идея со случайными признаками работает? Сравните как с точки зрения качества, так и с точки зрения скорости обучения и применения."
   ]
  },
  {
   "cell_type": "code",
   "execution_count": 19,
   "metadata": {},
   "outputs": [],
   "source": [
    "def print_stats(model, X, y):\n",
    "    y_pred = model.predict(X)\n",
    "    print(f'accuracy = {accuracy_score(y, y_pred)}')\n",
    "    print(f'precision = {precision_score(y, y_pred, average=\"macro\")}')\n",
    "    print(f'recall = {recall_score(y, y_pred, average=\"macro\")}')"
   ]
  },
  {
   "cell_type": "code",
   "execution_count": 14,
   "metadata": {},
   "outputs": [],
   "source": [
    "# считается что-то реально очень долго, поэтому пришлось взять так мало объектов\n",
    "ind = np.random.choice(len(x_train), size=6000, replace=False)"
   ]
  },
  {
   "cell_type": "markdown",
   "metadata": {},
   "source": [
    "**Наша модель**"
   ]
  },
  {
   "cell_type": "code",
   "execution_count": 20,
   "metadata": {
    "id": "qN8LUlJgK-hV"
   },
   "outputs": [
    {
     "name": "stderr",
     "output_type": "stream",
     "text": [
      "/home/boris/.local/lib/python3.10/site-packages/sklearn/linear_model/_logistic.py:460: ConvergenceWarning: lbfgs failed to converge (status=1):\n",
      "STOP: TOTAL NO. of ITERATIONS REACHED LIMIT.\n",
      "\n",
      "Increase the number of iterations (max_iter) or scale the data as shown in:\n",
      "    https://scikit-learn.org/stable/modules/preprocessing.html\n",
      "Please also refer to the documentation for alternative solver options:\n",
      "    https://scikit-learn.org/stable/modules/linear_model.html#logistic-regression\n",
      "  n_iter_i = _check_optimize_result(\n"
     ]
    },
    {
     "name": "stdout",
     "output_type": "stream",
     "text": [
      "Time: 211.211s\n",
      "accuracy = 0.8462\n",
      "precision = 0.8457432414917756\n",
      "recall = 0.8462\n"
     ]
    }
   ],
   "source": [
    "# с логрегом\n",
    "start = time.time()\n",
    "model = RFFPipeline(classifier=\"logreg\").fit(x_train[ind], y_train[ind])\n",
    "print(\"Time: {:.3f}s\".format(time.time() - start))\n",
    "\n",
    "print_stats(model, x_test, y_test)"
   ]
  },
  {
   "cell_type": "code",
   "execution_count": 22,
   "metadata": {},
   "outputs": [
    {
     "name": "stdout",
     "output_type": "stream",
     "text": [
      "Time: 6.730s\n",
      "accuracy = 0.8391\n",
      "precision = 0.8389710067292977\n",
      "recall = 0.8390999999999998\n"
     ]
    }
   ],
   "source": [
    "# с svm\n",
    "start = time.time()\n",
    "model = RFFPipeline(classifier=\"svm\").fit(x_train[ind], y_train[ind])\n",
    "print(\"Time: {:.3f}s\".format(time.time() - start))\n",
    "\n",
    "print_stats(model, x_test, y_test)"
   ]
  },
  {
   "cell_type": "markdown",
   "metadata": {},
   "source": [
    "**LinearSVM**\n"
   ]
  },
  {
   "cell_type": "code",
   "execution_count": 23,
   "metadata": {},
   "outputs": [
    {
     "name": "stderr",
     "output_type": "stream",
     "text": [
      "/home/boris/.local/lib/python3.10/site-packages/sklearn/svm/_classes.py:32: FutureWarning: The default value of `dual` will change from `True` to `'auto'` in 1.5. Set the value of `dual` explicitly to suppress the warning.\n",
      "  warnings.warn(\n"
     ]
    },
    {
     "name": "stdout",
     "output_type": "stream",
     "text": [
      "Time: 11.178s\n",
      "accuracy = 0.7539\n",
      "precision = 0.760919310897707\n",
      "recall = 0.7539\n"
     ]
    },
    {
     "name": "stderr",
     "output_type": "stream",
     "text": [
      "/home/boris/.local/lib/python3.10/site-packages/sklearn/svm/_base.py:1250: ConvergenceWarning: Liblinear failed to converge, increase the number of iterations.\n",
      "  warnings.warn(\n"
     ]
    }
   ],
   "source": [
    "start = time.time()\n",
    "model = LinearSVC().fit(x_train[ind], y_train[ind])\n",
    "print(\"Time: {:.3f}s\".format(time.time() - start))\n",
    "\n",
    "print_stats(model, x_test, y_test)"
   ]
  },
  {
   "cell_type": "markdown",
   "metadata": {},
   "source": [
    "**KernelSVM sklearn**"
   ]
  },
  {
   "cell_type": "code",
   "execution_count": 24,
   "metadata": {},
   "outputs": [
    {
     "name": "stdout",
     "output_type": "stream",
     "text": [
      "Time: 4.911s\n",
      "accuracy = 0.8346\n",
      "precision = 0.8325724835059753\n",
      "recall = 0.8346\n"
     ]
    }
   ],
   "source": [
    "start = time.time()\n",
    "model = SVC(kernel=\"rbf\").fit(x_train[ind], y_train[ind])\n",
    "print(\"Time: {:.3f}s\".format(time.time() - start))\n",
    "\n",
    "print_stats(model, x_test, y_test)"
   ]
  },
  {
   "cell_type": "markdown",
   "metadata": {},
   "source": [
    "**CatBoost**"
   ]
  },
  {
   "cell_type": "code",
   "execution_count": 25,
   "metadata": {},
   "outputs": [],
   "source": [
    "from catboost import CatBoostClassifier\n",
    "import optuna\n",
    "from sklearn.model_selection import train_test_split"
   ]
  },
  {
   "cell_type": "code",
   "execution_count": 28,
   "metadata": {},
   "outputs": [
    {
     "name": "stderr",
     "output_type": "stream",
     "text": [
      "[I 2024-02-19 21:02:20,389] A new study created in memory with name: no-name-35c22da1-6020-4646-99e2-7d3fa195c336\n",
      "[I 2024-02-19 21:02:29,298] Trial 0 finished with values: [0.8427222222222223, 0.8408116370949366, 0.8426932087919591] and parameters: {'num_trees': 50, 'learning_rate': 0.3967773047361719}. \n",
      "[I 2024-02-19 21:02:45,826] Trial 1 finished with values: [0.8472777777777778, 0.8457297899913151, 0.847217830502992] and parameters: {'num_trees': 95, 'learning_rate': 0.742573051416155}. \n",
      "[I 2024-02-19 21:02:48,590] Trial 2 finished with values: [0.7188888888888889, 0.7113169373982722, 0.7190768920261376] and parameters: {'num_trees': 8, 'learning_rate': 0.15275356021597253}. \n",
      "[I 2024-02-19 21:03:08,841] Trial 3 finished with values: [0.8609444444444444, 0.8595826667587494, 0.8609088670100256] and parameters: {'num_trees': 138, 'learning_rate': 0.3153630581916711}. \n",
      "[I 2024-02-19 21:03:10,165] Trial 4 finished with values: [0.6962777777777778, 0.6926182662926956, 0.6963168840069431] and parameters: {'num_trees': 3, 'learning_rate': 0.6492762967223268}. \n",
      "[I 2024-02-19 21:03:19,627] Trial 5 finished with values: [0.7456111111111111, 0.7385044359182646, 0.7457470383909379] and parameters: {'num_trees': 60, 'learning_rate': 0.026352088252291295}. \n",
      "[I 2024-02-19 21:03:45,776] Trial 6 finished with values: [0.8569444444444444, 0.8561157051247316, 0.8568933390189549] and parameters: {'num_trees': 177, 'learning_rate': 0.6810083922667924}. \n",
      "[I 2024-02-19 21:04:08,331] Trial 7 finished with values: [0.8451111111111111, 0.844501211979906, 0.8450567184668506] and parameters: {'num_trees': 125, 'learning_rate': 0.845773964406792}. \n",
      "[I 2024-02-19 21:04:27,780] Trial 8 finished with values: [0.8439444444444445, 0.8433512762644539, 0.8438580794950056] and parameters: {'num_trees': 102, 'learning_rate': 0.7887964696620465}. \n",
      "[I 2024-02-19 21:05:03,809] Trial 9 finished with values: [0.8110555555555555, 0.8083800661425308, 0.8110364533848529] and parameters: {'num_trees': 179, 'learning_rate': 0.026432817413235332}. \n",
      "[I 2024-02-19 21:05:26,635] Trial 10 finished with values: [0.8610555555555556, 0.8600820477779818, 0.8610500860993721] and parameters: {'num_trees': 134, 'learning_rate': 0.498277299971986}. \n",
      "[I 2024-02-19 21:06:00,289] Trial 11 finished with values: [0.8662222222222222, 0.8649215778526871, 0.866177058481316] and parameters: {'num_trees': 188, 'learning_rate': 0.2600113101639304}. \n",
      "[I 2024-02-19 21:06:09,433] Trial 12 finished with values: [0.6967222222222222, 0.6880359943243115, 0.697035587125231] and parameters: {'num_trees': 42, 'learning_rate': 0.015265369250010319}. \n",
      "[I 2024-02-19 21:06:38,196] Trial 13 finished with values: [0.858, 0.8572386280046713, 0.8579455927387221] and parameters: {'num_trees': 166, 'learning_rate': 0.6204168696855327}. \n",
      "[I 2024-02-19 21:07:01,640] Trial 14 finished with values: [0.8418888888888889, 0.8412948212816254, 0.8418313152429191] and parameters: {'num_trees': 142, 'learning_rate': 0.9273441642600584}. \n",
      "[I 2024-02-19 21:07:13,262] Trial 15 finished with values: [0.8368333333333333, 0.8347335871152864, 0.8368116812215908] and parameters: {'num_trees': 59, 'learning_rate': 0.1457932269458273}. \n",
      "[I 2024-02-19 21:07:19,030] Trial 16 finished with values: [0.8299444444444445, 0.8283932178752146, 0.8298915847592173] and parameters: {'num_trees': 32, 'learning_rate': 0.5469619413068}. \n",
      "[I 2024-02-19 21:07:32,020] Trial 17 finished with values: [0.8277222222222222, 0.8268705882562936, 0.8276570522746498] and parameters: {'num_trees': 69, 'learning_rate': 0.9500223351757457}. \n",
      "[I 2024-02-19 21:07:55,832] Trial 18 finished with values: [0.8537222222222223, 0.8526484271586428, 0.8536809121934048] and parameters: {'num_trees': 131, 'learning_rate': 0.6675057081856595}. \n",
      "[I 2024-02-19 21:08:20,545] Trial 19 finished with values: [0.8575, 0.8564309734184663, 0.8574606825223254] and parameters: {'num_trees': 139, 'learning_rate': 0.6037560781224114}. \n"
     ]
    }
   ],
   "source": [
    "def objective(trial):\n",
    "    params = {\n",
    "        \"num_trees\": trial.suggest_int(\"num_trees\", 2, 200),\n",
    "        \"learning_rate\": trial.suggest_float(\"learning_rate\", 0, 1)\n",
    "    }\n",
    "    \n",
    "    classifier = CatBoostClassifier(**params, verbose=False).fit(train_features, train_labels)\n",
    "    predictions = classifier.predict(validation_features).reshape(1, -1)[0]\n",
    "    accuracy = accuracy_score(validation_labels, predictions)\n",
    "    precision = precision_score(validation_labels, predictions, average='macro')\n",
    "    recall = recall_score(validation_labels, predictions, average='macro')\n",
    "    return accuracy, precision, recall\n",
    "\n",
    "\n",
    "pca = PCA(n_components=50)\n",
    "train_features_pca = pca.fit_transform(x_train)\n",
    "test_features_pca = pca.transform(x_test)\n",
    "\n",
    "train_features, validation_features, train_labels, validation_labels = train_test_split(train_features_pca, y_train, train_size=0.7, random_state=42)\n",
    "study = optuna.create_study(directions=[\"maximize\", \"maximize\", \"maximize\"])\n",
    "study.optimize(objective, n_trials=20)"
   ]
  },
  {
   "cell_type": "code",
   "execution_count": 42,
   "metadata": {},
   "outputs": [
    {
     "name": "stdout",
     "output_type": "stream",
     "text": [
      "Stats of the best run: \n",
      "accuracy = 0.8662222222222222\n",
      "precision = 0.8649215778526871\n",
      "recall = 0.866177058481316\n",
      "Params: \n",
      "num_trees: 188\n",
      "learning_rate: 0.2600113101639304\n"
     ]
    }
   ],
   "source": [
    "best = study.best_trials\n",
    "print('Stats of the best run: ')\n",
    "print(f'accuracy = {best[0].values[0]}')\n",
    "print(f'precision = {best[0].values[1]}')\n",
    "print(f'recall = {best[0].values[2]}')\n",
    "\n",
    "print(\"Params: \")\n",
    "for key, value in best[0].params.items():\n",
    "    print(\"{}: {}\".format(key, value))"
   ]
  },
  {
   "cell_type": "code",
   "execution_count": 45,
   "metadata": {},
   "outputs": [
    {
     "name": "stdout",
     "output_type": "stream",
     "text": [
      "time: 11.292s\n",
      "accuracy = 0.8256\n",
      "precision = 0.8239116989782929\n",
      "recall = 0.8256\n"
     ]
    }
   ],
   "source": [
    "start = time.time()\n",
    "model = CatBoostClassifier(num_trees=188, learning_rate=0.26, verbose=False).fit(train_features_pca[ind], y_train[ind])\n",
    "print(\"time: {:.3f}s\".format(time.time() - start))\n",
    "\n",
    "y_pred = model.predict(test_features_pca).reshape(1, -1)[0]\n",
    "print(f'accuracy = {accuracy_score(y_test, y_pred)}')\n",
    "print(f'precision = {precision_score(y_test, y_pred, average=\"macro\")}')\n",
    "print(f'recall = {recall_score(y_test, y_pred, average=\"macro\")}')"
   ]
  },
  {
   "cell_type": "markdown",
   "metadata": {},
   "source": [
    "**Вывод:**\n",
    "\n",
    "Нетрудно заметить, что наша модель, использующая случайные признаки показывает наилучшее качество, ядровой svm сравним с ним. Линейный SVM совсем плохо справляется с большим количеством данных.\n",
    "\n",
    "CatBoost показал качество сравнимое с RFF и ядровым svm, но зато был быстрее, чем они. Идея со случайными признаками хороша, потому что она и правда позволяет улучшить качество, тем не менее такой подход работает оооочень долго. Мне кажется именно из-за этого бустинг гораздо больше распрастранен в приложениях, нежели ядровые методы, даже аппроксимируемые дискретным количеством признаков.\n",
    "\n"
   ]
  },
  {
   "cell_type": "markdown",
   "metadata": {
    "id": "e6umjhWuK-hV"
   },
   "source": [
    "__Задание 3. (2 балла)__\n",
    "\n",
    "Проведите эксперименты:\n",
    "1. Помогает ли предварительное понижение размерности с помощью PCA? \n",
    "2. Как зависит итоговое качество от n_features? Выходит ли оно на плато при росте n_features?\n",
    "3. Важно ли, какую модель обучать — логистическую регрессию или SVM?"
   ]
  },
  {
   "cell_type": "markdown",
   "metadata": {},
   "source": [
    "#### Помогает ли предварительное понижение размерности с помощью PCA? "
   ]
  },
  {
   "cell_type": "code",
   "execution_count": 51,
   "metadata": {},
   "outputs": [],
   "source": [
    "import pandas as pd"
   ]
  },
  {
   "cell_type": "code",
   "execution_count": 47,
   "metadata": {},
   "outputs": [],
   "source": [
    "def get_stats(model, X, y):\n",
    "    y_pred = model.predict(X)\n",
    "    return {\n",
    "        \"accuracy\": accuracy_score(y, y_pred),\n",
    "        \"precision\": precision_score(y, y_pred, average='macro'),\n",
    "        \"recall\": recall_score(y, y_pred, average='macro')\n",
    "    } "
   ]
  },
  {
   "cell_type": "code",
   "execution_count": null,
   "metadata": {
    "id": "c2QIHIMbK-hW"
   },
   "outputs": [],
   "source": [
    "new_dims = [20, 50, 100, 200, 500]\n",
    "results = []\n",
    "    \n",
    "rff = RFFPipeline(use_PCA=False, classifier=\"logreg\").fit(x_train[ind], y_train[ind])\n",
    "tmp_results = get_stats(rff, x_test, y_test)\n",
    "\n",
    "tmp_results['num_dims'] = x_train.shape[1]\n",
    "results.append(tmp_results)\n",
    "for new_dim in new_dims:\n",
    "    new_dim = int(new_dim)\n",
    "    rff = RFFPipeline(new_dim=new_dim, classifier=\"logreg\").fit(x_train[ind], y_train[ind])\n",
    "    tmp_results = get_stats(rff, x_test, y_test)\n",
    "    tmp_results['num_dims'] = new_dim\n",
    "    results.append(tmp_results)"
   ]
  },
  {
   "cell_type": "code",
   "execution_count": 56,
   "metadata": {},
   "outputs": [
    {
     "data": {
      "text/html": [
       "<div>\n",
       "<style scoped>\n",
       "    .dataframe tbody tr th:only-of-type {\n",
       "        vertical-align: middle;\n",
       "    }\n",
       "\n",
       "    .dataframe tbody tr th {\n",
       "        vertical-align: top;\n",
       "    }\n",
       "\n",
       "    .dataframe thead th {\n",
       "        text-align: right;\n",
       "    }\n",
       "</style>\n",
       "<table border=\"1\" class=\"dataframe\">\n",
       "  <thead>\n",
       "    <tr style=\"text-align: right;\">\n",
       "      <th></th>\n",
       "      <th>accuracy</th>\n",
       "      <th>precision</th>\n",
       "      <th>recall</th>\n",
       "      <th>num_dims</th>\n",
       "    </tr>\n",
       "  </thead>\n",
       "  <tbody>\n",
       "    <tr>\n",
       "      <th>1</th>\n",
       "      <td>0.8379</td>\n",
       "      <td>0.837452</td>\n",
       "      <td>0.8379</td>\n",
       "      <td>20</td>\n",
       "    </tr>\n",
       "    <tr>\n",
       "      <th>2</th>\n",
       "      <td>0.8520</td>\n",
       "      <td>0.851811</td>\n",
       "      <td>0.8520</td>\n",
       "      <td>50</td>\n",
       "    </tr>\n",
       "    <tr>\n",
       "      <th>3</th>\n",
       "      <td>0.8413</td>\n",
       "      <td>0.841900</td>\n",
       "      <td>0.8413</td>\n",
       "      <td>100</td>\n",
       "    </tr>\n",
       "    <tr>\n",
       "      <th>4</th>\n",
       "      <td>0.8425</td>\n",
       "      <td>0.842702</td>\n",
       "      <td>0.8425</td>\n",
       "      <td>200</td>\n",
       "    </tr>\n",
       "    <tr>\n",
       "      <th>5</th>\n",
       "      <td>0.8317</td>\n",
       "      <td>0.832961</td>\n",
       "      <td>0.8317</td>\n",
       "      <td>500</td>\n",
       "    </tr>\n",
       "    <tr>\n",
       "      <th>0</th>\n",
       "      <td>0.8339</td>\n",
       "      <td>0.834661</td>\n",
       "      <td>0.8339</td>\n",
       "      <td>784</td>\n",
       "    </tr>\n",
       "  </tbody>\n",
       "</table>\n",
       "</div>"
      ],
      "text/plain": [
       "   accuracy  precision  recall  num_dims\n",
       "1    0.8379   0.837452  0.8379        20\n",
       "2    0.8520   0.851811  0.8520        50\n",
       "3    0.8413   0.841900  0.8413       100\n",
       "4    0.8425   0.842702  0.8425       200\n",
       "5    0.8317   0.832961  0.8317       500\n",
       "0    0.8339   0.834661  0.8339       784"
      ]
     },
     "execution_count": 56,
     "metadata": {},
     "output_type": "execute_result"
    }
   ],
   "source": [
    "res = pd.DataFrame(results).sort_values(by='num_dims')\n",
    "res"
   ]
  },
  {
   "cell_type": "code",
   "execution_count": 71,
   "metadata": {},
   "outputs": [
    {
     "data": {
      "image/png": "[encoded data removed]",
      "text/plain": [
       "<Figure size 1600x500 with 3 Axes>"
      ]
     },
     "metadata": {},
     "output_type": "display_data"
    }
   ],
   "source": [
    "import matplotlib.pyplot as plt\n",
    "import seaborn as sns\n",
    "\n",
    "\n",
    "plt.figure(figsize=(16, 5))\n",
    "\n",
    "plt.subplot(1, 3, 1)\n",
    "ax = sns.barplot(data=res, x='num_dims', y=\"accuracy\")\n",
    "ax.set(ylim=(0.8, 0.87))\n",
    "\n",
    "plt.subplot(1, 3, 2)\n",
    "ax = sns.barplot(data=res, x='num_dims', y=\"precision\")\n",
    "ax.set(ylim=(0.8, 0.87))\n",
    "\n",
    "plt.subplot(1, 3, 3)\n",
    "ax = sns.barplot(data=res, x='num_dims', y=\"recall\")\n",
    "ax.set(ylim=(0.8, 0.87))\n",
    "\n",
    "plt.show()"
   ]
  },
  {
   "cell_type": "markdown",
   "metadata": {},
   "source": [
    "**Вывод:** Видно, что по каждой метрике наблюдается пик в районе num_dims = 50, значит количество размерностей равное 50 является оптимальным."
   ]
  },
  {
   "cell_type": "markdown",
   "metadata": {},
   "source": [
    "#### Как зависит итоговое качество от n_features? Выходит ли оно на плато при росте n_features?"
   ]
  },
  {
   "cell_type": "code",
   "execution_count": null,
   "metadata": {},
   "outputs": [],
   "source": [
    "n_featureses = np.arange(500, 5000, 1000)\n",
    "results = []\n",
    "\n",
    "for n_features in n_featureses:\n",
    "    rff = RFFPipeline(n_features=n_features, classifier=\"logreg\").fit(x_train[ind], y_train[ind])\n",
    "    tmp_results = get_stats(rff, x_test, y_test)\n",
    "    tmp_results['n_features'] = n_features\n",
    "    results.append(tmp_results)\n",
    "\n",
    "res = pd.DataFrame(results)"
   ]
  },
  {
   "cell_type": "code",
   "execution_count": 73,
   "metadata": {},
   "outputs": [
    {
     "data": {
      "text/html": [
       "<div>\n",
       "<style scoped>\n",
       "    .dataframe tbody tr th:only-of-type {\n",
       "        vertical-align: middle;\n",
       "    }\n",
       "\n",
       "    .dataframe tbody tr th {\n",
       "        vertical-align: top;\n",
       "    }\n",
       "\n",
       "    .dataframe thead th {\n",
       "        text-align: right;\n",
       "    }\n",
       "</style>\n",
       "<table border=\"1\" class=\"dataframe\">\n",
       "  <thead>\n",
       "    <tr style=\"text-align: right;\">\n",
       "      <th></th>\n",
       "      <th>accuracy</th>\n",
       "      <th>precision</th>\n",
       "      <th>recall</th>\n",
       "      <th>n_features</th>\n",
       "    </tr>\n",
       "  </thead>\n",
       "  <tbody>\n",
       "    <tr>\n",
       "      <th>0</th>\n",
       "      <td>0.8446</td>\n",
       "      <td>0.844415</td>\n",
       "      <td>0.8446</td>\n",
       "      <td>500</td>\n",
       "    </tr>\n",
       "    <tr>\n",
       "      <th>1</th>\n",
       "      <td>0.8481</td>\n",
       "      <td>0.847969</td>\n",
       "      <td>0.8481</td>\n",
       "      <td>1500</td>\n",
       "    </tr>\n",
       "    <tr>\n",
       "      <th>2</th>\n",
       "      <td>0.8471</td>\n",
       "      <td>0.846981</td>\n",
       "      <td>0.8471</td>\n",
       "      <td>2500</td>\n",
       "    </tr>\n",
       "    <tr>\n",
       "      <th>3</th>\n",
       "      <td>0.8480</td>\n",
       "      <td>0.848151</td>\n",
       "      <td>0.8480</td>\n",
       "      <td>3500</td>\n",
       "    </tr>\n",
       "    <tr>\n",
       "      <th>4</th>\n",
       "      <td>0.8443</td>\n",
       "      <td>0.844500</td>\n",
       "      <td>0.8443</td>\n",
       "      <td>4500</td>\n",
       "    </tr>\n",
       "  </tbody>\n",
       "</table>\n",
       "</div>"
      ],
      "text/plain": [
       "   accuracy  precision  recall  n_features\n",
       "0    0.8446   0.844415  0.8446         500\n",
       "1    0.8481   0.847969  0.8481        1500\n",
       "2    0.8471   0.846981  0.8471        2500\n",
       "3    0.8480   0.848151  0.8480        3500\n",
       "4    0.8443   0.844500  0.8443        4500"
      ]
     },
     "execution_count": 73,
     "metadata": {},
     "output_type": "execute_result"
    }
   ],
   "source": [
    "res"
   ]
  },
  {
   "cell_type": "code",
   "execution_count": 74,
   "metadata": {},
   "outputs": [
    {
     "data": {
      "image/png": "[encoded data removed]",
      "text/plain": [
       "<Figure size 1600x500 with 3 Axes>"
      ]
     },
     "metadata": {},
     "output_type": "display_data"
    }
   ],
   "source": [
    "plt.figure(figsize=(16, 5))\n",
    "\n",
    "plt.subplot(1, 3, 1)\n",
    "ax = sns.barplot(data=res, x='n_features', y=\"accuracy\")\n",
    "ax.set(ylim=(0.8, 0.87))\n",
    "\n",
    "plt.subplot(1, 3, 2)\n",
    "ax = sns.barplot(data=res, x='n_features', y=\"precision\")\n",
    "ax.set(ylim=(0.8, 0.87))\n",
    "\n",
    "plt.subplot(1, 3, 3)\n",
    "ax = sns.barplot(data=res, x='n_features', y=\"recall\")\n",
    "ax.set(ylim=(0.8, 0.87))\n",
    "\n",
    "plt.show()"
   ]
  },
  {
   "cell_type": "markdown",
   "metadata": {},
   "source": [
    "**Вывод:** Видно, что количество случайных признаков не сильно влияет на резльтат, если брать эту величину в разумных пределах. Наилучший скор получается при n_features = 1500."
   ]
  },
  {
   "cell_type": "markdown",
   "metadata": {},
   "source": [
    "#### Важно ли, какую модель обучать — логистическую регрессию или SVM?"
   ]
  },
  {
   "cell_type": "markdown",
   "metadata": {},
   "source": [
    "Поскольку подобный эксперимент мы уже проводили выше, то напишу только вывод, а не буду дублировать код.\n",
    "\n",
    "**Вывод:** и с логрегом, и с SVM модель показывает хорошее качество. Тем не менее, так как мы переформулировали именно задачу svm при выводе этого метода, то интуитивно хочется использовать его.\n"
   ]
  },
  {
   "cell_type": "markdown",
   "metadata": {},
   "source": [
    "### Бонус"
   ]
  },
  {
   "cell_type": "markdown",
   "metadata": {
    "id": "QVDWHCdrK-hX"
   },
   "source": [
    "__Задание 4. (Максимум 2 балла)__\n",
    "\n",
    "Как вы, должно быть, помните с курса МО-1, многие алгоритмы машинного обучения работают лучше, если признаки данных некоррелированы. Оказывается, что для RFF существует модификация, позволяющая получать ортогональные случайные признаки (Orthogonal Random Features, ORF). Об этом методе можно прочитать в [статье](https://proceedings.neurips.cc/paper/2016/file/53adaf494dc89ef7196d73636eb2451b-Paper.pdf). Реализуйте класс для вычисления ORF по аналогии с основным заданием. Обратите внимание, что ваш класс должен уметь работать со случаем n_features > new_dim (в статье есть замечание на этот счет). Проведите эксперименты, сравнивающие RFF и ORF, сделайте выводы."
   ]
  },
  {
   "cell_type": "code",
   "execution_count": null,
   "metadata": {
    "id": "HSxvGI9iK-hX"
   },
   "outputs": [],
   "source": [
    "# Your code here: (￣▽￣)/♫•*¨*•.¸¸♪"
   ]
  },
  {
   "cell_type": "markdown",
   "metadata": {
    "id": "4pc7-1jmK-hY"
   },
   "source": [
    "__Задание 5. (Максимум 1 балл)__\n",
    "\n",
    "Поэкспериментируйте с функциями для вычисления новых случайных признаков. Не обязательно использовать косинус от скалярного произведения — можно брать знак от него, хэш и т.д. Придумайте побольше вариантов для генерации признаков и проверьте, не получается ли с их помощью добиваться более высокого качества. Также можете попробовать другой классификатор поверх случайных признаков, сравните результаты."
   ]
  },
  {
   "cell_type": "code",
   "execution_count": null,
   "metadata": {
    "id": "dWj-O2vjK-hY"
   },
   "outputs": [],
   "source": [
    "# Your code here: (￣▽￣)/♫•*¨*•.¸¸♪"
   ]
  },
  {
   "cell_type": "markdown",
   "metadata": {},
   "source": [
    "__Задание 6. (Максимум 1 балл)__\n",
    "\n",
    "Реализуйте класс ядровой Ridge регрессии (Лекция 13, $\\S 1.2$), для оптимизации используте градиентный спуск, а не аналитическую формулу. Также подумайте о том, как в формулах правильно учесть свободный коэффициент. Затем адаптируйте вашу реализацию RFF под задачу регрессии. Сравните вашу ядровую регрессию и RFF на синтетических данных."
   ]
  },
  {
   "cell_type": "markdown",
   "metadata": {},
   "source": [
    "Функция потерь: \n",
    "$$\n",
    "Q(w) = \\frac{1}{2} ||\\Phi \\Phi^T w - y||^2 + \\frac{\\lambda}{2} w^T \\Phi \\Phi^T w \\rightarrow \\min_w,\n",
    "$$\n",
    "где $\\Phi \\Phi^T = K$, $K = (k(x_i, x_j))_{i, j = 1}^{\\ell}$.\n",
    "\n",
    "Предсказание: \n",
    "$\n",
    "y(x) = k(x)^T w,\n",
    "$\n",
    "где $k(x)$ — вектор функций ядра от пар объектов $(x, x_i)_{i=1}^{\\ell}$.\n",
    "\n",
    "Вы можете изменять представленный ниже шаблон по своему усмотрению."
   ]
  },
  {
   "cell_type": "code",
   "execution_count": null,
   "metadata": {},
   "outputs": [],
   "source": [
    "import numpy as np\n",
    "from sklearn.base import RegressorMixin\n",
    "from sklearn.gaussian_process.kernels import RBF\n",
    "\n",
    "class KernelRidgeRegression(RegressorMixin):\n",
    "    \"\"\"\n",
    "    Kernel Ridge regression class\n",
    "    \"\"\"\n",
    "\n",
    "    def __init__(self,         \n",
    "        lr=0.01,\n",
    "        regularization=1.,\n",
    "        tolerance=1e-2,\n",
    "        max_iter=1000,\n",
    "        batch_size=64,\n",
    "        kernel_scale=1.\n",
    "    ):\n",
    "        \"\"\"\n",
    "        :param lr: learning rate\n",
    "        :param regularization: regularization coefficient\n",
    "        :param tolerance: stopping criterion for square of euclidean norm of weight difference\n",
    "        :param max_iter: stopping criterion for iterations\n",
    "        :param batch_size: size of the batches used in gradient descent steps\n",
    "        :parame kernel_scale: length scale in RBF kernel formula\n",
    "        \"\"\"\n",
    "\n",
    "        self.lr: float = lr\n",
    "        self.regularization: float = regularization\n",
    "        self.w: np.ndarray | None = None\n",
    "\n",
    "        self.tolerance: float = tolerance\n",
    "        self.max_iter: int = max_iter\n",
    "        self.batch_size: int = batch_size\n",
    "        self.loss_history: list[float] = []\n",
    "        self.kernel = RBF(kernel_scale)\n",
    "\n",
    "    def calc_loss(self, x: np.ndarray, y: np.ndarray) -> float:\n",
    "        \"\"\"\n",
    "        Calculating loss for x and y dataset\n",
    "        :param x: features array\n",
    "        :param y: targets array\n",
    "        \"\"\"\n",
    "        raise NotImplementedError\n",
    "\n",
    "    def calc_grad(self, x: np.ndarray, y: np.ndarray) -> float:\n",
    "        \"\"\"\n",
    "        Calculating gradient for x and y dataset\n",
    "        :param x: features array\n",
    "        :param y: targets array\n",
    "        \"\"\"\n",
    "        raise NotImplementedError\n",
    "\n",
    "    def fit(self, x: np.ndarray, y: np.ndarray) -> \"KernelRidgeRegression\":\n",
    "        \"\"\"\n",
    "        Fitting weights for x and y dataset\n",
    "        :param x: features array\n",
    "        :param y: targets array\n",
    "        :return: self\n",
    "        \"\"\"\n",
    "        raise NotImplementedError\n",
    "\n",
    "    def predict(self, x: np.ndarray) -> np.ndarray:\n",
    "        \"\"\"\n",
    "        Predicting targets for x dataset\n",
    "        :param x: features array\n",
    "        :return: prediction: np.ndarray\n",
    "        \"\"\"\n",
    "        raise NotImplementedError"
   ]
  },
  {
   "cell_type": "code",
   "execution_count": null,
   "metadata": {},
   "outputs": [],
   "source": []
  }
 ],
 "metadata": {
  "colab": {
   "collapsed_sections": [],
   "name": "homework-practice-08-random-features.ipynb",
   "provenance": []
  },
  "kernelspec": {
   "display_name": "Python 3 (ipykernel)",
   "language": "python",
   "name": "python3"
  },
  "language_info": {
   "codemirror_mode": {
    "name": "ipython",
    "version": 3
   },
   "file_extension": ".py",
   "mimetype": "text/x-python",
   "name": "python",
   "nbconvert_exporter": "python",
   "pygments_lexer": "ipython3",
   "version": "3.6.8"
  }
 },
 "nbformat": 4,
 "nbformat_minor": 1
}
